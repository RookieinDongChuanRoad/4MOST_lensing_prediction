{
 "cells": [
  {
   "cell_type": "code",
   "execution_count": 1,
   "metadata": {},
   "outputs": [],
   "source": [
    "import numpy as np\n",
    "import h5py\n",
    "import pylab as plt\n",
    "from astropy.table import Table\n",
    "from cal_caustic_area import cal_caustic_area,cal_caustic_arcsec, cal_ein_radius\n",
    "import foreground_model as fg"
   ]
  },
  {
   "cell_type": "markdown",
   "metadata": {},
   "source": [
    "## Some galaxies have $\\gamma_{DM} > 2$, we need to redraw it $\\gamma_{DM}$ "
   ]
  },
  {
   "cell_type": "code",
   "execution_count": 2,
   "metadata": {},
   "outputs": [
    {
     "name": "stdout",
     "output_type": "stream",
     "text": [
      "272\n",
      "738\n"
     ]
    },
    {
     "ename": "KeyError",
     "evalue": "\"Unable to open object (object '1267' doesn't exist)\"",
     "output_type": "error",
     "traceback": [
      "\u001b[0;31m---------------------------------------------------------------------------\u001b[0m",
      "\u001b[0;31mKeyError\u001b[0m                                  Traceback (most recent call last)",
      "Cell \u001b[0;32mIn[2], line 5\u001b[0m\n\u001b[1;32m      3\u001b[0m \u001b[38;5;28;01mfor\u001b[39;00m i \u001b[38;5;129;01min\u001b[39;00m \u001b[38;5;28mrange\u001b[39m(\u001b[38;5;28mlen\u001b[39m(galaxies)):\n\u001b[1;32m      4\u001b[0m     \u001b[38;5;28mid\u001b[39m \u001b[38;5;241m=\u001b[39m \u001b[38;5;28mstr\u001b[39m(i)\n\u001b[0;32m----> 5\u001b[0m     sample \u001b[38;5;241m=\u001b[39m galaxies[\u001b[38;5;28mid\u001b[39m]\n\u001b[1;32m      6\u001b[0m     \u001b[38;5;66;03m# alpha_sps = sample.attrs['alpha_sps']\u001b[39;00m\n\u001b[1;32m      7\u001b[0m     \u001b[38;5;66;03m# gamma_DM = sample.attrs['gamma_DM']\u001b[39;00m\n\u001b[1;32m      8\u001b[0m     \u001b[38;5;66;03m# logMh = sample.attrs['logMh']\u001b[39;00m\n\u001b[0;32m   (...)\u001b[0m\n\u001b[1;32m     19\u001b[0m     \u001b[38;5;66;03m# logMstar_true = logMstar+np.log10(alpha_sps)\u001b[39;00m\n\u001b[1;32m     20\u001b[0m     \u001b[38;5;66;03m# rs = rs*fg.cosmo_astropy.arcsec_per_kpc_proper(z_foreground).value\u001b[39;00m\n\u001b[1;32m     21\u001b[0m     gamma_DM \u001b[38;5;241m=\u001b[39m sample\u001b[38;5;241m.\u001b[39mattrs[\u001b[38;5;124m'\u001b[39m\u001b[38;5;124mgamma_DM\u001b[39m\u001b[38;5;124m'\u001b[39m]\n",
      "File \u001b[0;32mh5py/_objects.pyx:54\u001b[0m, in \u001b[0;36mh5py._objects.with_phil.wrapper\u001b[0;34m()\u001b[0m\n",
      "File \u001b[0;32mh5py/_objects.pyx:55\u001b[0m, in \u001b[0;36mh5py._objects.with_phil.wrapper\u001b[0;34m()\u001b[0m\n",
      "File \u001b[0;32m~/anaconda3/lib/python3.11/site-packages/h5py/_hl/group.py:357\u001b[0m, in \u001b[0;36mGroup.__getitem__\u001b[0;34m(self, name)\u001b[0m\n\u001b[1;32m    355\u001b[0m         \u001b[38;5;28;01mraise\u001b[39;00m \u001b[38;5;167;01mValueError\u001b[39;00m(\u001b[38;5;124m\"\u001b[39m\u001b[38;5;124mInvalid HDF5 object reference\u001b[39m\u001b[38;5;124m\"\u001b[39m)\n\u001b[1;32m    356\u001b[0m \u001b[38;5;28;01melif\u001b[39;00m \u001b[38;5;28misinstance\u001b[39m(name, (\u001b[38;5;28mbytes\u001b[39m, \u001b[38;5;28mstr\u001b[39m)):\n\u001b[0;32m--> 357\u001b[0m     oid \u001b[38;5;241m=\u001b[39m h5o\u001b[38;5;241m.\u001b[39mopen(\u001b[38;5;28mself\u001b[39m\u001b[38;5;241m.\u001b[39mid, \u001b[38;5;28mself\u001b[39m\u001b[38;5;241m.\u001b[39m_e(name), lapl\u001b[38;5;241m=\u001b[39m\u001b[38;5;28mself\u001b[39m\u001b[38;5;241m.\u001b[39m_lapl)\n\u001b[1;32m    358\u001b[0m \u001b[38;5;28;01melse\u001b[39;00m:\n\u001b[1;32m    359\u001b[0m     \u001b[38;5;28;01mraise\u001b[39;00m \u001b[38;5;167;01mTypeError\u001b[39;00m(\u001b[38;5;124m\"\u001b[39m\u001b[38;5;124mAccessing a group is done with bytes or str, \u001b[39m\u001b[38;5;124m\"\u001b[39m\n\u001b[1;32m    360\u001b[0m                     \u001b[38;5;124m\"\u001b[39m\u001b[38;5;124mnot \u001b[39m\u001b[38;5;132;01m{}\u001b[39;00m\u001b[38;5;124m\"\u001b[39m\u001b[38;5;241m.\u001b[39mformat(\u001b[38;5;28mtype\u001b[39m(name)))\n",
      "File \u001b[0;32mh5py/_objects.pyx:54\u001b[0m, in \u001b[0;36mh5py._objects.with_phil.wrapper\u001b[0;34m()\u001b[0m\n",
      "File \u001b[0;32mh5py/_objects.pyx:55\u001b[0m, in \u001b[0;36mh5py._objects.with_phil.wrapper\u001b[0;34m()\u001b[0m\n",
      "File \u001b[0;32mh5py/h5o.pyx:190\u001b[0m, in \u001b[0;36mh5py.h5o.open\u001b[0;34m()\u001b[0m\n",
      "\u001b[0;31mKeyError\u001b[0m: \"Unable to open object (object '1267' doesn't exist)\""
     ]
    }
   ],
   "source": [
    "gamma_generator = fg.inner_slope()\n",
    "with h5py.File('/root/4MOST_lensing_prediction/codes/data/potential_lense_ELCOSMOS.h5', 'r+') as galaxies:\n",
    "    for i in range(len(galaxies)):\n",
    "        id = str(i)\n",
    "        sample = galaxies[id]\n",
    "        # alpha_sps = sample.attrs['alpha_sps']\n",
    "        # gamma_DM = sample.attrs['gamma_DM']\n",
    "        # logMh = sample.attrs['logMh']\n",
    "        # logMstar = sample.attrs['logMstar']\n",
    "        # logRe = sample.attrs['logRe']\n",
    "        # c = 10**sample.attrs['logc']\n",
    "        # num_bg = sample.attrs['num_bg']\n",
    "        # q = sample.attrs['q']\n",
    "        # r_ein = sample.attrs['r_ein']\n",
    "        # radcaustic_arcsec = sample.attrs['radcaustic_arcsec']\n",
    "        # rhos = sample.attrs['rhos']\n",
    "        # rs = sample.attrs['rs']\n",
    "        # z_foreground = sample.attrs['z_foreground']\n",
    "        # logMstar_true = logMstar+np.log10(alpha_sps)\n",
    "        # rs = rs*fg.cosmo_astropy.arcsec_per_kpc_proper(z_foreground).value\n",
    "        gamma_DM = sample.attrs['gamma_DM']\n",
    "        while gamma_DM >= 2:\n",
    "            print(id)\n",
    "            gamma_DM = gamma_generator.CDF_inv(1.25,np.random.rand())\n",
    "        sample.attrs['gamma_DM'] = gamma_DM"
   ]
  }
 ],
 "metadata": {
  "kernelspec": {
   "display_name": "base",
   "language": "python",
   "name": "python3"
  },
  "language_info": {
   "codemirror_mode": {
    "name": "ipython",
    "version": 3
   },
   "file_extension": ".py",
   "mimetype": "text/x-python",
   "name": "python",
   "nbconvert_exporter": "python",
   "pygments_lexer": "ipython3",
   "version": "3.11.7"
  }
 },
 "nbformat": 4,
 "nbformat_minor": 2
}
