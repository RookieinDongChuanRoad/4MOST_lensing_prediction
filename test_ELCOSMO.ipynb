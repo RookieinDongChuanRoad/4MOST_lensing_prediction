{
 "cells": [
  {
   "cell_type": "code",
   "execution_count": 1,
   "metadata": {},
   "outputs": [],
   "source": [
    "import numpy as np\n",
    "import matplotlib.pyplot as plt\n",
    "from astropy.table import Table"
   ]
  },
  {
   "cell_type": "code",
   "execution_count": 2,
   "metadata": {},
   "outputs": [
    {
     "name": "stderr",
     "output_type": "stream",
     "text": [
      "WARNING: UnitsWarning: 'log(solMass)' did not parse as fits unit: 'log' is not a recognized function If this is meant to be a custom unit, define it with 'u.def_unit'. To have it recognized inside a file reader or other code, enable it with 'u.add_enabled_units'. For details, see https://docs.astropy.org/en/latest/units/combining_and_defining.html [astropy.units.core]\n",
      "WARNING: UnitsWarning: 'log(solMass/year)' did not parse as fits unit: At col 12, Unit 'year' not supported by the FITS standard.  If this is meant to be a custom unit, define it with 'u.def_unit'. To have it recognized inside a file reader or other code, enable it with 'u.add_enabled_units'. For details, see https://docs.astropy.org/en/latest/units/combining_and_defining.html [astropy.units.core]\n",
      "WARNING: UnitsWarning: 'log(1/year)' did not parse as fits unit: Numeric factor not supported by FITS If this is meant to be a custom unit, define it with 'u.def_unit'. To have it recognized inside a file reader or other code, enable it with 'u.add_enabled_units'. For details, see https://docs.astropy.org/en/latest/units/combining_and_defining.html [astropy.units.core]\n"
     ]
    }
   ],
   "source": [
    "ELCOSMOS = Table.read('./data/ELCOSMOS_v1.fits')"
   ]
  },
  {
   "cell_type": "code",
   "execution_count": 3,
   "metadata": {},
   "outputs": [
    {
     "data": {
      "text/html": [
       "<div><i>Table length=518404</i>\n",
       "<table id=\"table140134067517456\" class=\"table-striped table-bordered table-condensed\">\n",
       "<thead><tr><th>ID</th><th>RA</th><th>Dec</th><th>ZPHOT</th><th>MASS_BEST</th><th>SFR_BEST</th><th>SSFR_BEST</th><th>u_CFHT</th><th>g_HSC</th><th>r_HSC</th><th>i_HSC</th><th>z_HSC</th><th>y_HSC</th><th>J_VISTA</th><th>H_VISTA</th><th>K_VISTA</th><th>OII</th><th>Hb</th><th>OIIIa</th><th>OIIIb</th><th>Ha</th><th>zone</th></tr></thead>\n",
       "<thead><tr><th></th><th>deg</th><th>deg</th><th></th><th>log(solMass)</th><th>log(solMass/year)</th><th>log(1/year)</th><th>mag</th><th>mag</th><th>mag</th><th>mag</th><th>mag</th><th>mag</th><th>mag</th><th>mag</th><th>mag</th><th>erg / (s cm2)</th><th>erg / (s cm2)</th><th>erg / (s cm2)</th><th>erg / (s cm2)</th><th>erg / (s cm2)</th><th></th></tr></thead>\n",
       "<thead><tr><th>int32</th><th>float64</th><th>float64</th><th>float32</th><th>float64</th><th>float32</th><th>float32</th><th>float32</th><th>float32</th><th>float32</th><th>float32</th><th>float32</th><th>float32</th><th>float32</th><th>float32</th><th>float32</th><th>float32</th><th>float32</th><th>float32</th><th>float32</th><th>float32</th><th>int64</th></tr></thead>\n",
       "<tr><td>216439</td><td>149.6976056339</td><td>1.6166389967</td><td>0.0386</td><td>7.97497</td><td>-4.868</td><td>-12.84</td><td>24.5139</td><td>22.8491</td><td>22.0267</td><td>21.6298</td><td>21.355</td><td>21.1352</td><td>20.9319</td><td>20.7177</td><td>20.8828</td><td>8.65628e-18</td><td>2.87249e-18</td><td>2.33004e-19</td><td>6.79692e-19</td><td>8.24404e-18</td><td>9</td></tr>\n",
       "<tr><td>218604</td><td>149.7493929083</td><td>1.6180678741</td><td>0.3797</td><td>10.9885</td><td>-18.46</td><td>-29.44</td><td>23.8182</td><td>21.4558</td><td>19.8655</td><td>19.1934</td><td>18.8889</td><td>18.7526</td><td>18.3196</td><td>18.0783</td><td>17.889</td><td>4.34353e-17</td><td>1.44135e-17</td><td>1.8361e-18</td><td>5.35607e-18</td><td>4.13668e-17</td><td>9</td></tr>\n",
       "<tr><td>219020</td><td>150.1250928889</td><td>1.6169004891</td><td>0.16</td><td>10.94771</td><td>--</td><td>--</td><td>20.9162</td><td>19.1373</td><td>18.0375</td><td>17.5552</td><td>17.2611</td><td>17.095</td><td>16.6957</td><td>16.5627</td><td>16.4692</td><td>3.78259e-16</td><td>1.25521e-16</td><td>1.93884e-16</td><td>5.65576e-16</td><td>3.60245e-16</td><td>8</td></tr>\n",
       "<tr><td>219656</td><td>150.388348879</td><td>1.6145377322</td><td>2.3343</td><td>8.74855</td><td>1.03</td><td>-7.719</td><td>26.6153</td><td>25.913</td><td>25.8541</td><td>25.7708</td><td>25.7558</td><td>25.7407</td><td>25.17</td><td>23.7685</td><td>24.4556</td><td>2.49914e-17</td><td>1.05141e-17</td><td>6.48419e-17</td><td>1.90905e-16</td><td>3.88903e-17</td><td>7</td></tr>\n",
       "<tr><td>219657</td><td>150.3836073821</td><td>1.6145321034</td><td>1.3916</td><td>8.56182</td><td>-1.224</td><td>-9.786</td><td>27.7193</td><td>27.4293</td><td>27.3783</td><td>27.0178</td><td>26.5174</td><td>25.8966</td><td>25.6444</td><td>25.6314</td><td>25.5329</td><td>1.10646e-18</td><td>3.67168e-19</td><td>1.4959e-18</td><td>4.36367e-18</td><td>1.05377e-18</td><td>7</td></tr>\n",
       "<tr><td>219713</td><td>150.2768281122</td><td>1.6146287567</td><td>1.7792</td><td>10.48873</td><td>0.8101</td><td>-9.679</td><td>28.1629</td><td>27.6162</td><td>27.1255</td><td>26.6954</td><td>26.2494</td><td>25.932</td><td>24.5621</td><td>23.7805</td><td>23.1271</td><td>6.87527e-18</td><td>3.92572e-18</td><td>1.25079e-18</td><td>3.72658e-18</td><td>2.01287e-17</td><td>8</td></tr>\n",
       "<tr><td>219741</td><td>150.4029352177</td><td>1.6146313504</td><td>2.1991</td><td>9.71873</td><td>-0.3049</td><td>-10.02</td><td>26.7109</td><td>26.2849</td><td>25.8771</td><td>25.8402</td><td>25.641</td><td>25.3719</td><td>24.3324</td><td>23.8715</td><td>23.7604</td><td>3.0036e-18</td><td>9.96711e-19</td><td>3.57567e-19</td><td>1.04305e-18</td><td>2.86056e-18</td><td>7</td></tr>\n",
       "<tr><td>219743</td><td>150.2950833438</td><td>1.6146617448</td><td>2.4407</td><td>9.53466</td><td>1.296</td><td>-8.239</td><td>27.3687</td><td>26.2778</td><td>26.0264</td><td>25.81</td><td>25.7032</td><td>25.6027</td><td>24.9754</td><td>24.38</td><td>23.8634</td><td>2.65129e-17</td><td>1.24727e-17</td><td>5.00021e-18</td><td>1.47856e-17</td><td>5.19889e-17</td><td>8</td></tr>\n",
       "<tr><td>219744</td><td>150.2399187426</td><td>1.6146747847</td><td>0.2079</td><td>6.46627</td><td>-1.158</td><td>-7.624</td><td>26.6661</td><td>26.212</td><td>25.7393</td><td>25.4713</td><td>25.7098</td><td>25.6461</td><td>25.3417</td><td>25.2787</td><td>25.0202</td><td>9.35296e-18</td><td>6.06849e-18</td><td>1.06938e-17</td><td>3.20199e-17</td><td>3.56714e-17</td><td>8</td></tr>\n",
       "<tr><td>...</td><td>...</td><td>...</td><td>...</td><td>...</td><td>...</td><td>...</td><td>...</td><td>...</td><td>...</td><td>...</td><td>...</td><td>...</td><td>...</td><td>...</td><td>...</td><td>...</td><td>...</td><td>...</td><td>...</td><td>...</td><td>...</td></tr>\n",
       "<tr><td>994459</td><td>150.6314707735</td><td>2.8140236504</td><td>0.3673</td><td>9.24801</td><td>-0.2561</td><td>-9.504</td><td>23.0744</td><td>22.6886</td><td>21.969</td><td>21.8061</td><td>21.5466</td><td>21.6232</td><td>21.3679</td><td>21.3055</td><td>21.1824</td><td>2.57366e-16</td><td>8.5404e-17</td><td>4.22004e-17</td><td>1.23102e-16</td><td>2.4511e-16</td><td>1</td></tr>\n",
       "<tr><td>994470</td><td>150.4348020275</td><td>2.813763233</td><td>0.7556</td><td>10.26511</td><td>1.78</td><td>-8.485</td><td>22.5393</td><td>22.0699</td><td>21.5141</td><td>20.8166</td><td>20.6041</td><td>20.5667</td><td>20.1981</td><td>19.8087</td><td>19.7787</td><td>3.02691e-16</td><td>2.08509e-16</td><td>7.68835e-17</td><td>2.30744e-16</td><td>1.30665e-15</td><td>1</td></tr>\n",
       "<tr><td>994471</td><td>150.5106409134</td><td>2.8119783013</td><td>2.1799</td><td>10.16478</td><td>2.539</td><td>-7.626</td><td>22.065</td><td>22.0446</td><td>21.7647</td><td>21.6304</td><td>21.5929</td><td>21.5936</td><td>21.0592</td><td>20.3766</td><td>20.5395</td><td>9.17913e-16</td><td>3.89318e-16</td><td>1.14002e-15</td><td>3.35745e-15</td><td>1.45257e-15</td><td>1</td></tr>\n",
       "<tr><td>994566</td><td>150.0398253629</td><td>2.8134867595</td><td>0.3325</td><td>10.51248</td><td>-0.03807</td><td>-10.55</td><td>22.9626</td><td>21.7163</td><td>20.4879</td><td>19.9331</td><td>19.5892</td><td>19.4354</td><td>19.0208</td><td>18.8503</td><td>18.6272</td><td>1.20367e-16</td><td>6.11453e-17</td><td>1.21237e-16</td><td>3.5957e-16</td><td>2.76676e-16</td><td>2</td></tr>\n",
       "<tr><td>994771</td><td>150.4678875784</td><td>2.8136833713</td><td>0.6755</td><td>9.77997</td><td>0.4717</td><td>-9.308</td><td>23.9464</td><td>23.6745</td><td>22.9926</td><td>22.3227</td><td>22.1656</td><td>22.0109</td><td>21.715</td><td>21.395</td><td>21.3324</td><td>8.57169e-17</td><td>4.12939e-17</td><td>7.06506e-18</td><td>2.09106e-17</td><td>1.76549e-16</td><td>1</td></tr>\n",
       "<tr><td>994831</td><td>150.6843197851</td><td>2.8121151259</td><td>0.4794</td><td>11.08206</td><td>-0.2059</td><td>-11.29</td><td>24.1591</td><td>22.4815</td><td>20.9391</td><td>20.0663</td><td>19.6515</td><td>19.4336</td><td>18.9081</td><td>18.6229</td><td>18.434</td><td>4.67692e-17</td><td>2.31987e-17</td><td>5.33039e-17</td><td>1.57944e-16</td><td>1.02331e-16</td><td>1</td></tr>\n",
       "<tr><td>994833</td><td>150.7691142116</td><td>2.8131745961</td><td>0.4095</td><td>10.49042</td><td>-8.551</td><td>-19.04</td><td>24.3847</td><td>22.1478</td><td>20.6913</td><td>20.0514</td><td>19.7596</td><td>19.6333</td><td>19.2592</td><td>19.0244</td><td>18.8639</td><td>1.93729e-17</td><td>6.42867e-18</td><td>8.43723e-19</td><td>2.46121e-18</td><td>1.84503e-17</td><td>1</td></tr>\n",
       "<tr><td>995118</td><td>150.1972338996</td><td>2.8132223647</td><td>0.43</td><td>10.76034</td><td>-12.18</td><td>-22.94</td><td>24.3872</td><td>22.0531</td><td>20.5135</td><td>19.7737</td><td>19.4392</td><td>19.3008</td><td>18.887</td><td>18.5996</td><td>18.4385</td><td>2.7172e-17</td><td>9.01672e-18</td><td>1.89342e-17</td><td>5.52327e-17</td><td>2.5878e-17</td><td>2</td></tr>\n",
       "<tr><td>995164</td><td>150.1673010583</td><td>2.8126809907</td><td>0.1799</td><td>9.60577</td><td>-0.7655</td><td>-10.37</td><td>23.3276</td><td>21.9984</td><td>21.0878</td><td>20.5877</td><td>20.3022</td><td>20.1299</td><td>19.8178</td><td>19.6126</td><td>19.4655</td><td>8.03786e-17</td><td>4.19422e-17</td><td>8.73969e-18</td><td>2.59477e-17</td><td>1.95309e-16</td><td>2</td></tr>\n",
       "<tr><td>995746</td><td>150.369545463</td><td>2.8133477125</td><td>0.1884</td><td>10.09323</td><td>0.2413</td><td>-9.852</td><td>20.7662</td><td>19.8288</td><td>19.1649</td><td>18.7876</td><td>18.6177</td><td>18.5017</td><td>18.18</td><td>18.0328</td><td>17.8862</td><td>1.4741e-15</td><td>6.13404e-16</td><td>6.27353e-17</td><td>1.84624e-16</td><td>2.24245e-15</td><td>1</td></tr>\n",
       "</table></div>"
      ],
      "text/plain": [
       "<Table length=518404>\n",
       "  ID         RA           Dec       ZPHOT  ...     OIIIb           Ha       zone\n",
       "            deg           deg              ... erg / (s cm2) erg / (s cm2)      \n",
       "int32     float64       float64    float32 ...    float32       float32    int64\n",
       "------ -------------- ------------ ------- ... ------------- ------------- -----\n",
       "216439 149.6976056339 1.6166389967  0.0386 ...   6.79692e-19   8.24404e-18     9\n",
       "218604 149.7493929083 1.6180678741  0.3797 ...   5.35607e-18   4.13668e-17     9\n",
       "219020 150.1250928889 1.6169004891    0.16 ...   5.65576e-16   3.60245e-16     8\n",
       "219656  150.388348879 1.6145377322  2.3343 ...   1.90905e-16   3.88903e-17     7\n",
       "219657 150.3836073821 1.6145321034  1.3916 ...   4.36367e-18   1.05377e-18     7\n",
       "219713 150.2768281122 1.6146287567  1.7792 ...   3.72658e-18   2.01287e-17     8\n",
       "219741 150.4029352177 1.6146313504  2.1991 ...   1.04305e-18   2.86056e-18     7\n",
       "219743 150.2950833438 1.6146617448  2.4407 ...   1.47856e-17   5.19889e-17     8\n",
       "219744 150.2399187426 1.6146747847  0.2079 ...   3.20199e-17   3.56714e-17     8\n",
       "   ...            ...          ...     ... ...           ...           ...   ...\n",
       "994459 150.6314707735 2.8140236504  0.3673 ...   1.23102e-16    2.4511e-16     1\n",
       "994470 150.4348020275  2.813763233  0.7556 ...   2.30744e-16   1.30665e-15     1\n",
       "994471 150.5106409134 2.8119783013  2.1799 ...   3.35745e-15   1.45257e-15     1\n",
       "994566 150.0398253629 2.8134867595  0.3325 ...    3.5957e-16   2.76676e-16     2\n",
       "994771 150.4678875784 2.8136833713  0.6755 ...   2.09106e-17   1.76549e-16     1\n",
       "994831 150.6843197851 2.8121151259  0.4794 ...   1.57944e-16   1.02331e-16     1\n",
       "994833 150.7691142116 2.8131745961  0.4095 ...   2.46121e-18   1.84503e-17     1\n",
       "995118 150.1972338996 2.8132223647    0.43 ...   5.52327e-17    2.5878e-17     2\n",
       "995164 150.1673010583 2.8126809907  0.1799 ...   2.59477e-17   1.95309e-16     2\n",
       "995746  150.369545463 2.8133477125  0.1884 ...   1.84624e-16   2.24245e-15     1"
      ]
     },
     "execution_count": 3,
     "metadata": {},
     "output_type": "execute_result"
    }
   ],
   "source": [
    "ELCOSMOS"
   ]
  },
  {
   "cell_type": "code",
   "execution_count": 23,
   "metadata": {},
   "outputs": [
    {
     "name": "stderr",
     "output_type": "stream",
     "text": [
      "WARNING: UnitsWarning: 'log(solMass)' did not parse as fits unit: 'log' is not a recognized function If this is meant to be a custom unit, define it with 'u.def_unit'. To have it recognized inside a file reader or other code, enable it with 'u.add_enabled_units'. For details, see https://docs.astropy.org/en/latest/units/combining_and_defining.html [astropy.units.core]\n",
      "WARNING: UnitsWarning: 'log(solMass/year)' did not parse as fits unit: At col 12, Unit 'year' not supported by the FITS standard.  If this is meant to be a custom unit, define it with 'u.def_unit'. To have it recognized inside a file reader or other code, enable it with 'u.add_enabled_units'. For details, see https://docs.astropy.org/en/latest/units/combining_and_defining.html [astropy.units.core]\n",
      "WARNING: UnitsWarning: 'log(1/year)' did not parse as fits unit: Numeric factor not supported by FITS If this is meant to be a custom unit, define it with 'u.def_unit'. To have it recognized inside a file reader or other code, enable it with 'u.add_enabled_units'. For details, see https://docs.astropy.org/en/latest/units/combining_and_defining.html [astropy.units.core]\n"
     ]
    }
   ],
   "source": [
    "sample_J24_5 = ELCOSMOS[ELCOSMOS['J_VISTA'] < 24.5]\n",
    "sample_J24_5.write('./data/ELCOSMOS_v1_Jlim.fits', overwrite=True)"
   ]
  },
  {
   "cell_type": "code",
   "execution_count": 22,
   "metadata": {},
   "outputs": [
    {
     "data": {
      "text/plain": [
       "<matplotlib.lines.Line2D at 0x7f7375ea8b50>"
      ]
     },
     "execution_count": 22,
     "metadata": {},
     "output_type": "execute_result"
    },
    {
     "data": {
      "image/png": "[encoded data removed]",
      "text/plain": [
       "<Figure size 640x480 with 1 Axes>"
      ]
     },
     "metadata": {},
     "output_type": "display_data"
    }
   ],
   "source": [
    "plt.hist(np.log10(sample_J24_5['OII']))\n",
    "plt.axvline(np.log10(2e-16))"
   ]
  },
  {
   "cell_type": "code",
   "execution_count": 13,
   "metadata": {},
   "outputs": [
    {
     "data": {
      "text/plain": [
       "100.64412238325282"
      ]
     },
     "execution_count": 13,
     "metadata": {},
     "output_type": "execute_result"
    }
   ],
   "source": [
    "5e5/3600/1.38"
   ]
  }
 ],
 "metadata": {
  "kernelspec": {
   "display_name": "base",
   "language": "python",
   "name": "python3"
  },
  "language_info": {
   "codemirror_mode": {
    "name": "ipython",
    "version": 3
   },
   "file_extension": ".py",
   "mimetype": "text/x-python",
   "name": "python",
   "nbconvert_exporter": "python",
   "pygments_lexer": "ipython3",
   "version": "3.11.7"
  }
 },
 "nbformat": 4,
 "nbformat_minor": 2
}
