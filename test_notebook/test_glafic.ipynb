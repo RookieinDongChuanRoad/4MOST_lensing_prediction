{
 "cells": [
  {
   "cell_type": "code",
   "execution_count": 1,
   "metadata": {},
   "outputs": [],
   "source": [
    "import numpy as np\n",
    "import glafic\n",
    "import pylab as plt\n",
    "from astropy.cosmology import FlatLambdaCDM\n",
    "cosmo = FlatLambdaCDM(H0=70, Om0=0.3)"
   ]
  },
  {
   "cell_type": "code",
   "execution_count": 2,
   "metadata": {},
   "outputs": [
    {
     "name": "stderr",
     "output_type": "stream",
     "text": [
      "######## parameter definition\n",
      "omega    =  3.000000e-01\n",
      "lambda   =  7.000000e-01\n",
      "weos     =  -1.000000e+00\n",
      "hubble   =  7.000000e-01\n",
      "prefix   =  out\n",
      "xmin     =  -5.000000e+00\n",
      "ymin     =  -5.000000e+00\n",
      "xmax     =  5.000000e+00\n",
      "ymax     =  5.000000e+00\n",
      "pix_ext  =  1.000000e-01\n",
      "nx_ext   =  100\n",
      "ny_ext   =  100\n",
      "pix_poi  =  1.000000e-01\n",
      "nx_poi   =  100\n",
      "ny_poi   =  100\n",
      "maxlev   =  5\n",
      "ran_seed =  -1234\n"
     ]
    }
   ],
   "source": [
    "p = [0.3, 0.7, -1.0, 0.7, 'out', -5, -5, 5, 5, 0.1, 0.1, 5]\n",
    "#[omega, lambda, weos, hubble, prefix, xmin[arcsec], ymin[arcsec], xmax[arcsec], ymax[arcsec], pix_ext[arcsec], pix_poi[arcsec], maxlev]\n",
    "glafic.init(*p)"
   ]
  },
  {
   "cell_type": "markdown",
   "metadata": {},
   "source": [
    "# Check Calculate caustic"
   ]
  },
  {
   "cell_type": "code",
   "execution_count": 7,
   "metadata": {},
   "outputs": [],
   "source": [
    "glafic.startup_setnum(2, 0, 1)\n",
    "# glafic.set_lens(1, 'anfw', 0.3, 7.2e14, 0.0, 0.0, 0, -45.0, 6.0,  0.0)\n",
    "# glafic.set_lens(1, 'sie',    0.1, 300,  0, 0, 0.2, -20.0, 0.02, 0.0)\n",
    "glafic.set_lens(1,'gnfw', 0.1,1e14,0,0,0.3,10,10**0.85,1.5)\n",
    "glafic.set_lens(2, 'sers', 0.1, 5e11, 0,0,0.3,10,5,4)\n",
    "# glafic.set_extend(1, 'sersic', 1.5, 150.0, -1.0, -1.5, 0.3, 90.0, 0.8, 1.0)\n",
    "# glafic.set_extend(2, 'gauss',  2.0, 150.0,  1.2,  1.0, 0.2, 10.0, 0.6, 0.0)\n",
    "glafic.set_point(1, 2.5, 0.1, 0.5)\n",
    "\n",
    "glafic.setopt_lens(1, 0, 1, 0, 0, 1, 1, 1, 1)\n",
    "glafic.setopt_lens(2, 0, 1, 0, 0, 1, 1, 1, 1)\n",
    "# glafic.setopt_extend(1, 0, 1, 1, 1, 1, 1, 0, 0)\n",
    "# glafic.setopt_extend(2, 0, 1, 1, 1, 1, 1, 0, 0)\n",
    "# glafic.setopt_point(1, 0, 1, 1)\n",
    "\n",
    "glafic.model_init(verb = 0)"
   ]
  },
  {
   "cell_type": "code",
   "execution_count": 4,
   "metadata": {},
   "outputs": [
    {
     "name": "stderr",
     "output_type": "stream",
     "text": [
      " making tables for gnfw... [101 x 801 = 80901 points]\n",
      "\n",
      "   initializing the adaptive mesh...\n",
      "   N_box ( lev =  1  pix_size =  0.10000 ) = 9801\n",
      "   N_box ( lev =  2  pix_size =  0.05000 ) = 1780\n",
      "   N_box ( lev =  3  pix_size =  0.02500 ) = 4160\n",
      "   N_box ( lev =  4  pix_size =  0.01250 ) = 10576\n",
      "   N_box ( lev =  5  pix_size =  0.00625 ) = 30584\n",
      "\n",
      "######## writing critical curve\n",
      " zs = 7.000000e-01 \n",
      " output file name = out_crit.dat \n",
      "\n"
     ]
    }
   ],
   "source": [
    "glafic.writecrit(0.7)"
   ]
  },
  {
   "cell_type": "code",
   "execution_count": 5,
   "metadata": {},
   "outputs": [],
   "source": [
    "read_caustic = np.genfromtxt('./out_crit.dat')\n",
    "xi1 = read_caustic[:,0]\n",
    "yi1 = read_caustic[:,1]\n",
    "xs1 = read_caustic[:,2]\n",
    "ys1 = read_caustic[:,3]\n",
    "xi2 = read_caustic[:,4]\n",
    "yi2 = read_caustic[:,5]\n",
    "xs2 = read_caustic[:,6]\n",
    "ys2 = read_caustic[:,7]"
   ]
  },
  {
   "cell_type": "code",
   "execution_count": 6,
   "metadata": {},
   "outputs": [
    {
     "data": {
      "image/png": "[encoded data removed]",
      "text/plain": [
       "<Figure size 1000x500 with 2 Axes>"
      ]
     },
     "metadata": {},
     "output_type": "display_data"
    },
    {
     "data": {
      "text/plain": [
       "2.0183557923718225"
      ]
     },
     "execution_count": 6,
     "metadata": {},
     "output_type": "execute_result"
    }
   ],
   "source": [
    "fig, ax = plt.subplots(1,2, figsize=(10,5))\n",
    "\n",
    "ax[0].scatter(xi1, yi1, s=1, c='r')\n",
    "ax[0].scatter(xi2, yi2, s=1, c='b')\n",
    "\n",
    "ax[1].scatter(xs1, ys1, s=1, c='r')\n",
    "ax[1].scatter(xs2, ys2, s=1, c='b')\n",
    "\n",
    "plt.show()\n",
    "\n",
    "glafic.calcein_i(0.7)"
   ]
  },
  {
   "cell_type": "code",
   "execution_count": 19,
   "metadata": {},
   "outputs": [
    {
     "data": {
      "text/latex": [
       "$8.4626279 \\; \\mathrm{\\frac{kpc}{{}^{\\prime}}}$"
      ],
      "text/plain": [
       "<Quantity 8.46262791 kpc / arcmin>"
      ]
     },
     "execution_count": 19,
     "metadata": {},
     "output_type": "execute_result"
    }
   ],
   "source": [
    "cosmo.kpc_proper_per_arcmin(1.5)/60"
   ]
  },
  {
   "cell_type": "code",
   "execution_count": 14,
   "metadata": {},
   "outputs": [
    {
     "name": "stderr",
     "output_type": "stream",
     "text": [
      "   initializing the adaptive mesh...\n",
      "   N_box ( lev =  1  pix_size =  0.10000 ) = 1437601\n",
      "   N_box ( lev =  2  pix_size =  0.05000 ) = 188\n",
      "   N_box ( lev =  3  pix_size =  0.02500 ) = 452\n",
      "   N_box ( lev =  4  pix_size =  0.01250 ) = 884\n",
      "   N_box ( lev =  5  pix_size =  0.00625 ) = 1972\n",
      "\n",
      "######## writing critical curve\n",
      " zs = 3.000000e-01 \n",
      " output file name = out_crit.dat \n",
      "\n",
      "   initializing the adaptive mesh...\n",
      "   N_box ( lev =  1  pix_size =  0.10000 ) = 1437601\n",
      "   N_box ( lev =  2  pix_size =  0.05000 ) = 300\n",
      "   N_box ( lev =  3  pix_size =  0.02500 ) = 584\n",
      "   N_box ( lev =  4  pix_size =  0.01250 ) = 1236\n",
      "   N_box ( lev =  5  pix_size =  0.00625 ) = 3060\n",
      "\n",
      "######## writing critical curve\n",
      " zs = 4.157895e-01 \n",
      " output file name = out_crit.dat \n",
      "\n",
      "   initializing the adaptive mesh...\n",
      "   N_box ( lev =  1  pix_size =  0.10000 ) = 1437601\n",
      "   N_box ( lev =  2  pix_size =  0.05000 ) = 348\n",
      "   N_box ( lev =  3  pix_size =  0.02500 ) = 748\n",
      "   N_box ( lev =  4  pix_size =  0.01250 ) = 1668\n",
      "   N_box ( lev =  5  pix_size =  0.00625 ) = 3828\n",
      "\n",
      "######## writing critical curve\n",
      " zs = 5.315789e-01 \n",
      " output file name = out_crit.dat \n",
      "\n",
      "   initializing the adaptive mesh...\n",
      "   N_box ( lev =  1  pix_size =  0.10000 ) = 1437601\n",
      "   N_box ( lev =  2  pix_size =  0.05000 ) = 396\n",
      "   N_box ( lev =  3  pix_size =  0.02500 ) = 812\n",
      "   N_box ( lev =  4  pix_size =  0.01250 ) = 1860\n",
      "   N_box ( lev =  5  pix_size =  0.00625 ) = 4084\n",
      "\n",
      "######## writing critical curve\n",
      " zs = 6.473684e-01 \n",
      " output file name = out_crit.dat \n",
      "\n",
      "   initializing the adaptive mesh...\n",
      "   N_box ( lev =  1  pix_size =  0.10000 ) = 1437601\n",
      "   N_box ( lev =  2  pix_size =  0.05000 ) = 416\n",
      "   N_box ( lev =  3  pix_size =  0.02500 ) = 848\n",
      "   N_box ( lev =  4  pix_size =  0.01250 ) = 1864\n",
      "   N_box ( lev =  5  pix_size =  0.00625 ) = 4580\n",
      "\n",
      "######## writing critical curve\n",
      " zs = 7.631579e-01 \n",
      " output file name = out_crit.dat \n",
      "\n",
      "   initializing the adaptive mesh...\n",
      "   N_box ( lev =  1  pix_size =  0.10000 ) = 1437601\n",
      "   N_box ( lev =  2  pix_size =  0.05000 ) = 500\n",
      "   N_box ( lev =  3  pix_size =  0.02500 ) = 888\n",
      "   N_box ( lev =  4  pix_size =  0.01250 ) = 2008\n",
      "   N_box ( lev =  5  pix_size =  0.00625 ) = 4884\n",
      "\n",
      "######## writing critical curve\n",
      " zs = 8.789474e-01 \n",
      " output file name = out_crit.dat \n",
      "\n",
      "   initializing the adaptive mesh...\n",
      "   N_box ( lev =  1  pix_size =  0.10000 ) = 1437601\n",
      "   N_box ( lev =  2  pix_size =  0.05000 ) = 484\n",
      "   N_box ( lev =  3  pix_size =  0.02500 ) = 940\n",
      "   N_box ( lev =  4  pix_size =  0.01250 ) = 2036\n",
      "   N_box ( lev =  5  pix_size =  0.00625 ) = 5064\n",
      "\n",
      "######## writing critical curve\n",
      " zs = 9.947368e-01 \n",
      " output file name = out_crit.dat \n",
      "\n",
      "   initializing the adaptive mesh...\n",
      "   N_box ( lev =  1  pix_size =  0.10000 ) = 1437601\n",
      "   N_box ( lev =  2  pix_size =  0.05000 ) = 436\n",
      "   N_box ( lev =  3  pix_size =  0.02500 ) = 892\n",
      "   N_box ( lev =  4  pix_size =  0.01250 ) = 2120\n",
      "   N_box ( lev =  5  pix_size =  0.00625 ) = 5248\n",
      "\n",
      "######## writing critical curve\n",
      " zs = 1.110526e+00 \n",
      " output file name = out_crit.dat \n",
      "\n",
      "   initializing the adaptive mesh...\n",
      "   N_box ( lev =  1  pix_size =  0.10000 ) = 1437601\n",
      "   N_box ( lev =  2  pix_size =  0.05000 ) = 564\n",
      "   N_box ( lev =  3  pix_size =  0.02500 ) = 1020\n",
      "   N_box ( lev =  4  pix_size =  0.01250 ) = 2184\n",
      "   N_box ( lev =  5  pix_size =  0.00625 ) = 5572\n",
      "\n",
      "######## writing critical curve\n",
      " zs = 1.226316e+00 \n",
      " output file name = out_crit.dat \n",
      "\n",
      "   initializing the adaptive mesh...\n",
      "   N_box ( lev =  1  pix_size =  0.10000 ) = 1437601\n",
      "   N_box ( lev =  2  pix_size =  0.05000 ) = 508\n",
      "   N_box ( lev =  3  pix_size =  0.02500 ) = 956\n",
      "   N_box ( lev =  4  pix_size =  0.01250 ) = 2248\n",
      "   N_box ( lev =  5  pix_size =  0.00625 ) = 5444\n",
      "\n",
      "######## writing critical curve\n",
      " zs = 1.342105e+00 \n",
      " output file name = out_crit.dat \n",
      "\n",
      "   initializing the adaptive mesh...\n",
      "   N_box ( lev =  1  pix_size =  0.10000 ) = 1437601\n",
      "   N_box ( lev =  2  pix_size =  0.05000 ) = 508\n",
      "   N_box ( lev =  3  pix_size =  0.02500 ) = 1088\n",
      "   N_box ( lev =  4  pix_size =  0.01250 ) = 2324\n",
      "   N_box ( lev =  5  pix_size =  0.00625 ) = 5812\n",
      "\n",
      "######## writing critical curve\n",
      " zs = 1.457895e+00 \n",
      " output file name = out_crit.dat \n",
      "\n",
      "   initializing the adaptive mesh...\n",
      "   N_box ( lev =  1  pix_size =  0.10000 ) = 1437601\n",
      "   N_box ( lev =  2  pix_size =  0.05000 ) = 540\n",
      "   N_box ( lev =  3  pix_size =  0.02500 ) = 1080\n",
      "   N_box ( lev =  4  pix_size =  0.01250 ) = 2344\n",
      "   N_box ( lev =  5  pix_size =  0.00625 ) = 5620\n",
      "\n",
      "######## writing critical curve\n",
      " zs = 1.573684e+00 \n",
      " output file name = out_crit.dat \n",
      "\n",
      "   initializing the adaptive mesh...\n",
      "   N_box ( lev =  1  pix_size =  0.10000 ) = 1437601\n",
      "   N_box ( lev =  2  pix_size =  0.05000 ) = 476\n",
      "   N_box ( lev =  3  pix_size =  0.02500 ) = 984\n",
      "   N_box ( lev =  4  pix_size =  0.01250 ) = 2296\n",
      "   N_box ( lev =  5  pix_size =  0.00625 ) = 5780\n",
      "\n",
      "######## writing critical curve\n",
      " zs = 1.689474e+00 \n",
      " output file name = out_crit.dat \n",
      "\n",
      "   initializing the adaptive mesh...\n",
      "   N_box ( lev =  1  pix_size =  0.10000 ) = 1437601\n",
      "   N_box ( lev =  2  pix_size =  0.05000 ) = 476\n",
      "   N_box ( lev =  3  pix_size =  0.02500 ) = 1080\n",
      "   N_box ( lev =  4  pix_size =  0.01250 ) = 2488\n",
      "   N_box ( lev =  5  pix_size =  0.00625 ) = 6024\n",
      "\n",
      "######## writing critical curve\n",
      " zs = 1.805263e+00 \n",
      " output file name = out_crit.dat \n",
      "\n",
      "   initializing the adaptive mesh...\n",
      "   N_box ( lev =  1  pix_size =  0.10000 ) = 1437601\n",
      "   N_box ( lev =  2  pix_size =  0.05000 ) = 476\n",
      "   N_box ( lev =  3  pix_size =  0.02500 ) = 1016\n",
      "   N_box ( lev =  4  pix_size =  0.01250 ) = 2344\n",
      "   N_box ( lev =  5  pix_size =  0.00625 ) = 6004\n",
      "\n",
      "######## writing critical curve\n",
      " zs = 1.921053e+00 \n",
      " output file name = out_crit.dat \n",
      "\n",
      "   initializing the adaptive mesh...\n",
      "   N_box ( lev =  1  pix_size =  0.10000 ) = 1437601\n",
      "   N_box ( lev =  2  pix_size =  0.05000 ) = 556\n",
      "   N_box ( lev =  3  pix_size =  0.02500 ) = 1084\n",
      "   N_box ( lev =  4  pix_size =  0.01250 ) = 2424\n",
      "   N_box ( lev =  5  pix_size =  0.00625 ) = 6148\n",
      "\n",
      "######## writing critical curve\n",
      " zs = 2.036842e+00 \n",
      " output file name = out_crit.dat \n",
      "\n",
      "   initializing the adaptive mesh...\n",
      "   N_box ( lev =  1  pix_size =  0.10000 ) = 1437601\n",
      "   N_box ( lev =  2  pix_size =  0.05000 ) = 604\n",
      "   N_box ( lev =  3  pix_size =  0.02500 ) = 1196\n",
      "   N_box ( lev =  4  pix_size =  0.01250 ) = 2424\n",
      "   N_box ( lev =  5  pix_size =  0.00625 ) = 5940\n",
      "\n",
      "######## writing critical curve\n",
      " zs = 2.152632e+00 \n",
      " output file name = out_crit.dat \n",
      "\n",
      "   initializing the adaptive mesh...\n",
      "   N_box ( lev =  1  pix_size =  0.10000 ) = 1437601\n",
      "   N_box ( lev =  2  pix_size =  0.05000 ) = 556\n",
      "   N_box ( lev =  3  pix_size =  0.02500 ) = 1132\n",
      "   N_box ( lev =  4  pix_size =  0.01250 ) = 2392\n",
      "   N_box ( lev =  5  pix_size =  0.00625 ) = 5908\n",
      "\n",
      "######## writing critical curve\n",
      " zs = 2.268421e+00 \n",
      " output file name = out_crit.dat \n",
      "\n",
      "   initializing the adaptive mesh...\n",
      "   N_box ( lev =  1  pix_size =  0.10000 ) = 1437601\n",
      "   N_box ( lev =  2  pix_size =  0.05000 ) = 588\n",
      "   N_box ( lev =  3  pix_size =  0.02500 ) = 1132\n",
      "   N_box ( lev =  4  pix_size =  0.01250 ) = 2416\n",
      "   N_box ( lev =  5  pix_size =  0.00625 ) = 6196\n",
      "\n",
      "######## writing critical curve\n",
      " zs = 2.384211e+00 \n",
      " output file name = out_crit.dat \n",
      "\n",
      "   initializing the adaptive mesh...\n",
      "   N_box ( lev =  1  pix_size =  0.10000 ) = 1437601\n",
      "   N_box ( lev =  2  pix_size =  0.05000 ) = 540\n",
      "   N_box ( lev =  3  pix_size =  0.02500 ) = 1084\n",
      "   N_box ( lev =  4  pix_size =  0.01250 ) = 2524\n",
      "   N_box ( lev =  5  pix_size =  0.00625 ) = 6212\n",
      "\n",
      "######## writing critical curve\n",
      " zs = 2.500000e+00 \n",
      " output file name = out_crit.dat \n",
      "\n"
     ]
    }
   ],
   "source": [
    "z_bins = np.linspace(0.3,2.5,20)\n",
    "r_bins = np.zeros(len(z_bins))\n",
    "for i in range(len(z_bins)):\n",
    "    z = z_bins[i]\n",
    "    glafic.writecrit(z)\n",
    "    read_caustic = np.genfromtxt('./out_crit.dat')\n",
    "    xs1 = read_caustic[:,2]\n",
    "    ys1 = read_caustic[:,3]\n",
    "    r_bins[i] = np.max(np.sqrt(xs1**2 + ys1**2))\n"
   ]
  },
  {
   "cell_type": "code",
   "execution_count": 15,
   "metadata": {},
   "outputs": [
    {
     "data": {
      "text/plain": [
       "array([0.06576455, 0.09572632, 0.11561404, 0.12949635, 0.13965941,\n",
       "       0.14738484, 0.15344104, 0.15830619, 0.16229652, 0.16563115,\n",
       "       0.16844756, 0.17085581, 0.17294793, 0.17477775, 0.1763919 ,\n",
       "       0.17782655, 0.17911032, 0.18026623, 0.18131235, 0.18226343])"
      ]
     },
     "execution_count": 15,
     "metadata": {},
     "output_type": "execute_result"
    }
   ],
   "source": [
    "r_bins"
   ]
  },
  {
   "cell_type": "markdown",
   "metadata": {},
   "source": [
    "## Draw Samples from our own foreground galaxy"
   ]
  },
  {
   "cell_type": "code",
   "execution_count": 4,
   "metadata": {},
   "outputs": [],
   "source": [
    "import h5py\n",
    "# f = h5py.File('./foreground_sample.h5', 'r')\n",
    "# f.keys()"
   ]
  },
  {
   "cell_type": "code",
   "execution_count": 191,
   "metadata": {},
   "outputs": [],
   "source": [
    "c = 10**f['c'][()]\n",
    "gamma = f['gamma_DM'][()]\n",
    "logMh = f['logMh'][()]\n",
    "z = f['z'][()]\n",
    "e = 1-f['q'][()]\n",
    "re_kpc = 10**f['logRe'][()]\n",
    "re_arcsec = re_kpc * cosmo.arcsec_per_kpc_proper(z).value\n",
    "logMstar = f['logMstar'][()]"
   ]
  },
  {
   "cell_type": "code",
   "execution_count": 257,
   "metadata": {},
   "outputs": [],
   "source": [
    "ind = 619\n",
    "glafic.startup_setnum(2, 0, 0)\n",
    "glafic.set_lens(1,'gnfw', z[ind]+0.3,10**logMh[ind],0,0,e[ind],0,c[ind]/(2-gamma[ind]),gamma[ind])\n",
    "glafic.set_lens(2, 'sers', z[ind]+0.3, 10**logMstar[ind], 0,0,e[ind],0,re_arcsec[ind],4)\n",
    "glafic.setopt_lens(1, 0, 1, 0, 0, 1, 1, 1, 1)\n",
    "glafic.setopt_lens(2, 0, 1, 0, 0, 1, 1, 1, 1)\n",
    "glafic.set_secondary('nfw_users 0',verb = 0)\n",
    "\n",
    "glafic.model_init(verb = 0)"
   ]
  },
  {
   "cell_type": "code",
   "execution_count": 258,
   "metadata": {},
   "outputs": [
    {
     "name": "stderr",
     "output_type": "stream",
     "text": [
      "   initializing the adaptive mesh...\n",
      "   N_box ( lev =  1  pix_size =  0.10000 ) = 9801\n",
      "   N_box ( lev =  2  pix_size =  0.05000 ) = 228\n",
      "   N_box ( lev =  3  pix_size =  0.02500 ) = 464\n",
      "   N_box ( lev =  4  pix_size =  0.01250 ) = 924\n",
      "   N_box ( lev =  5  pix_size =  0.00625 ) = 1936\n",
      "\n",
      "######## writing critical curve\n",
      " zs = 2.500000e+00 \n",
      " output file name = out_crit.dat \n",
      "\n"
     ]
    }
   ],
   "source": [
    "glafic.writecrit(2.5)"
   ]
  },
  {
   "cell_type": "code",
   "execution_count": 259,
   "metadata": {},
   "outputs": [],
   "source": [
    "read_caustic = np.genfromtxt('./out_crit.dat')\n",
    "xi1 = read_caustic[:,0]\n",
    "yi1 = read_caustic[:,1]\n",
    "xs1 = read_caustic[:,2]\n",
    "ys1 = read_caustic[:,3]\n",
    "xi2 = read_caustic[:,4]\n",
    "yi2 = read_caustic[:,5]\n",
    "xs2 = read_caustic[:,6]\n",
    "ys2 = read_caustic[:,7]"
   ]
  },
  {
   "cell_type": "code",
   "execution_count": 260,
   "metadata": {},
   "outputs": [
    {
     "data": {
      "image/png": "[encoded data removed]",
      "text/plain": [
       "<Figure size 1000x500 with 2 Axes>"
      ]
     },
     "metadata": {},
     "output_type": "display_data"
    },
    {
     "data": {
      "text/plain": [
       "0.11929578817874413"
      ]
     },
     "execution_count": 260,
     "metadata": {},
     "output_type": "execute_result"
    }
   ],
   "source": [
    "fig, ax = plt.subplots(1,2, figsize=(10,5))\n",
    "\n",
    "ax[0].scatter(xi1, yi1, s=1, c='r')\n",
    "ax[0].scatter(xi2, yi2, s=1, c='b')\n",
    "\n",
    "ax[1].scatter(xs1, ys1, s=1, c='r')\n",
    "ax[1].scatter(xs2, ys2, s=1, c='b')\n",
    "\n",
    "plt.show()\n",
    "\n",
    "glafic.calcein_i(2.5)"
   ]
  },
  {
   "cell_type": "markdown",
   "metadata": {},
   "source": [
    "## Check Ale's sample"
   ]
  },
  {
   "cell_type": "code",
   "execution_count": 5,
   "metadata": {},
   "outputs": [],
   "source": [
    "sample_ale = h5py.File('../data/fiducial_1000sqdeg_galaxies.hdf5', 'r')"
   ]
  },
  {
   "cell_type": "code",
   "execution_count": 6,
   "metadata": {},
   "outputs": [],
   "source": [
    "z = sample_ale['z'][()]\n",
    "lmstar = sample_ale['lmstar'][()]\n",
    "lreff = sample_ale['lreff'][()]\n",
    "lreff = 10**lreff*cosmo.arcsec_per_kpc_proper(z).value\n",
    "lm200 = sample_ale['lm200'][()]\n",
    "gammadm = sample_ale['gammadm'][()]\n",
    "q = sample_ale['q'][()]\n",
    "rs = sample_ale['rs'][()]\n",
    "r200 = sample_ale['r200'][()]\n",
    "c = r200/rs\n",
    "rs = rs*cosmo.arcsec_per_kpc_proper(z).value\n",
    "tcaust = sample_ale['tcaust'][()]\n",
    "tein = sample_ale['tein'][()]"
   ]
  },
  {
   "cell_type": "code",
   "execution_count": 265,
   "metadata": {},
   "outputs": [
    {
     "name": "stderr",
     "output_type": "stream",
     "text": [
      "hodensity       =  2.000000e+02\n"
     ]
    }
   ],
   "source": [
    "ind = 619\n",
    "glafic.startup_setnum(2, 0, 0)\n",
    "glafic.set_lens(1,'gnfw', z[ind],10**lm200[ind]*0.7,0,0,1-q[ind],0,c[ind]/(2-gamma[ind]),gammadm[ind])\n",
    "glafic.set_lens(2, 'sers', z[ind], 10**lmstar[ind]*0.7, 0,0,1-q[ind],0,lreff[ind],4)\n",
    "glafic.setopt_lens(1, 0, 1, 0, 0, 1, 1, 1, 1)\n",
    "glafic.setopt_lens(2, 0, 1, 0, 0, 1, 1, 1, 1)\n",
    "glafic.set_secondary('nfw_users 0',verb = 0)\n",
    "glafic.set_secondary('flag_hodensity 2',verb = 0)\n",
    "glafic.set_secondary('hodensity 200')\n",
    "\n",
    "glafic.model_init(verb = 0)"
   ]
  },
  {
   "cell_type": "code",
   "execution_count": 266,
   "metadata": {},
   "outputs": [
    {
     "data": {
      "text/plain": [
       "11.520416542265728"
      ]
     },
     "execution_count": 266,
     "metadata": {},
     "output_type": "execute_result"
    }
   ],
   "source": [
    "lmstar[ind]"
   ]
  },
  {
   "cell_type": "code",
   "execution_count": 272,
   "metadata": {},
   "outputs": [
    {
     "name": "stderr",
     "output_type": "stream",
     "text": [
      "######## writing critical curve\n",
      " zs = 2.500000e+00 \n",
      " output file name = out_crit.dat \n",
      "\n"
     ]
    }
   ],
   "source": [
    "glafic.writecrit(2.5)\n",
    "rein = glafic.calcein2(2.5,0,0,0)"
   ]
  },
  {
   "cell_type": "code",
   "execution_count": 273,
   "metadata": {},
   "outputs": [
    {
     "data": {
      "text/plain": [
       "0.998072834130126"
      ]
     },
     "execution_count": 273,
     "metadata": {},
     "output_type": "execute_result"
    }
   ],
   "source": [
    "rein"
   ]
  },
  {
   "cell_type": "code",
   "execution_count": 268,
   "metadata": {},
   "outputs": [],
   "source": [
    "read_caustic = np.genfromtxt('./out_crit.dat')\n",
    "xi1 = read_caustic[:,0]\n",
    "yi1 = read_caustic[:,1]\n",
    "xs1 = read_caustic[:,2]\n",
    "ys1 = read_caustic[:,3]\n",
    "xi2 = read_caustic[:,4]\n",
    "yi2 = read_caustic[:,5]\n",
    "xs2 = read_caustic[:,6]\n",
    "ys2 = read_caustic[:,7]"
   ]
  },
  {
   "cell_type": "code",
   "execution_count": 269,
   "metadata": {},
   "outputs": [
    {
     "data": {
      "text/plain": [
       "Text(0.5, 1.0, 'caustic')"
      ]
     },
     "execution_count": 269,
     "metadata": {},
     "output_type": "execute_result"
    },
    {
     "data": {
      "image/png": "[encoded data removed]",
      "text/plain": [
       "<Figure size 1000x500 with 2 Axes>"
      ]
     },
     "metadata": {},
     "output_type": "display_data"
    }
   ],
   "source": [
    "fig, ax = plt.subplots(1,2, figsize=(10,5))\n",
    "\n",
    "ax[0].scatter(xi1, yi1, s=1, c='r')\n",
    "ax[0].set_title('critical')\n",
    "\n",
    "ax[1].scatter(xs1, ys1, s=1, c='r')\n",
    "ax[1].set_title('caustic')"
   ]
  },
  {
   "cell_type": "code",
   "execution_count": 270,
   "metadata": {},
   "outputs": [
    {
     "data": {
      "text/plain": [
       "0.6908968"
      ]
     },
     "execution_count": 270,
     "metadata": {},
     "output_type": "execute_result"
    }
   ],
   "source": [
    "np.max(xs1)"
   ]
  },
  {
   "cell_type": "code",
   "execution_count": 271,
   "metadata": {},
   "outputs": [
    {
     "name": "stdout",
     "output_type": "stream",
     "text": [
      "0.7480643864709576 1.1420376157644663\n"
     ]
    }
   ],
   "source": [
    "print(tcaust[ind],tein[ind])"
   ]
  },
  {
   "cell_type": "markdown",
   "metadata": {},
   "source": [
    "# Check get image"
   ]
  },
  {
   "cell_type": "markdown",
   "metadata": {},
   "source": [
    "## Point source"
   ]
  },
  {
   "cell_type": "code",
   "execution_count": 3,
   "metadata": {},
   "outputs": [
    {
     "name": "stderr",
     "output_type": "stream",
     "text": [
      "flag_extnorm    =  1\n"
     ]
    }
   ],
   "source": [
    "glafic.startup_setnum(2, 0, 1)\n",
    "glafic.set_secondary('flag_extnorm 1')\n",
    "\n",
    "\n",
    "glafic.set_lens(1,'gnfw', 0.1,1e14,0,0,0.3,10,10**0.85,1.5)\n",
    "glafic.set_lens(2, 'sers', 0.1, 5e11, 0,0,0.3,10,5,4)\n",
    "glafic.set_point(1, 2.5, 0.1, 0.5)\n",
    "\n",
    "glafic.setopt_lens(1, 0, 1, 0, 0, 1, 1, 1, 1)\n",
    "glafic.setopt_lens(2, 0, 1, 0, 0, 1, 1, 1, 1)\n",
    "\n",
    "#* set psf\n",
    "glafic.set_psf(0.7,0,0,5,0,0,0,0,1)\n",
    "\n",
    "glafic.model_init(verb = 0)"
   ]
  },
  {
   "cell_type": "code",
   "execution_count": 4,
   "metadata": {},
   "outputs": [
    {
     "data": {
      "text/plain": [
       "7.079457843841379"
      ]
     },
     "execution_count": 4,
     "metadata": {},
     "output_type": "execute_result"
    }
   ],
   "source": [
    "10**0.85"
   ]
  },
  {
   "cell_type": "code",
   "execution_count": 15,
   "metadata": {},
   "outputs": [
    {
     "data": {
      "text/plain": [
       "3.472521039563"
      ]
     },
     "execution_count": 15,
     "metadata": {},
     "output_type": "execute_result"
    }
   ],
   "source": [
    "a = glafic.calcein2(0.7,0,0,0)\n",
    "a"
   ]
  },
  {
   "cell_type": "code",
   "execution_count": 16,
   "metadata": {},
   "outputs": [
    {
     "data": {
      "text/plain": [
       "2.0183557923718207"
      ]
     },
     "execution_count": 16,
     "metadata": {},
     "output_type": "execute_result"
    }
   ],
   "source": [
    "glafic.calcein_i(0.7)"
   ]
  },
  {
   "cell_type": "code",
   "execution_count": 25,
   "metadata": {},
   "outputs": [
    {
     "ename": "",
     "evalue": "",
     "output_type": "error",
     "traceback": [
      "\u001b[1;31m在当前单元格或上一个单元格中执行代码时 Kernel 崩溃。\n",
      "\u001b[1;31m请查看单元格中的代码，以确定故障的可能原因。\n",
      "\u001b[1;31m单击<a href='https://aka.ms/vscodeJupyterKernelCrash'>此处</a>了解详细信息。\n",
      "\u001b[1;31m有关更多详细信息，请查看 Jupyter <a href='command:jupyter.viewOutput'>log</a>。"
     ]
    }
   ],
   "source": [
    "glafic.writeimage()"
   ]
  },
  {
   "cell_type": "code",
   "execution_count": 13,
   "metadata": {},
   "outputs": [
    {
     "name": "stdout",
     "output_type": "stream",
     "text": [
      "n_img = 5\n",
      "x =    0.2505   y =   -3.6521   mag =   -2.5008 [  -0.995]   td[day] =    76.720\n",
      "x =   -4.6158   y =    1.7250   mag =    8.1706 [  -2.281]   td[day] =    21.759\n",
      "x =    4.5856   y =    2.7273   mag =    5.0536 [  -1.759]   td[day] =     0.000\n",
      "x =   -1.8639   y =    4.3757   mag =   -7.5548 [  -2.196]   td[day] =    26.828\n",
      "x =   -0.0010   y =   -0.0100   mag =    0.0005 [   8.251]   td[day] =   133.699\n"
     ]
    },
    {
     "name": "stderr",
     "output_type": "stream",
     "text": [
      "######## finding images for point 1\n",
      " zs = 2.500000e+00  xs = 1.000000e-01  ys = 5.000000e-01\n",
      " output file name = out_point.dat \n",
      "\n",
      "\n"
     ]
    }
   ],
   "source": [
    "glafic.findimg(0.5)"
   ]
  },
  {
   "cell_type": "code",
   "execution_count": 22,
   "metadata": {},
   "outputs": [],
   "source": [
    "from astropy.io import fits\n",
    "a = fits.open('../test_image.fits')\n",
    "b = fits.open('../test_-23_image.fits')"
   ]
  },
  {
   "cell_type": "code",
   "execution_count": 23,
   "metadata": {},
   "outputs": [
    {
     "data": {
      "text/plain": [
       "<matplotlib.image.AxesImage at 0x7ffb7a4162d0>"
      ]
     },
     "execution_count": 23,
     "metadata": {},
     "output_type": "execute_result"
    },
    {
     "data": {
      "image/png": "[encoded data removed]",
      "text/plain": [
       "<Figure size 640x480 with 1 Axes>"
      ]
     },
     "metadata": {},
     "output_type": "display_data"
    }
   ],
   "source": [
    "plt.imshow(a[0].data)"
   ]
  },
  {
   "cell_type": "code",
   "execution_count": 24,
   "metadata": {},
   "outputs": [
    {
     "name": "stdout",
     "output_type": "stream",
     "text": [
      "12.534196\n",
      "1.2534196e-24\n"
     ]
    }
   ],
   "source": [
    "print(np.max(a[0].data))\n",
    "print(np.max(b[0].data))"
   ]
  }
 ],
 "metadata": {
  "kernelspec": {
   "display_name": ".venv",
   "language": "python",
   "name": "python3"
  },
  "language_info": {
   "codemirror_mode": {
    "name": "ipython",
    "version": 3
   },
   "file_extension": ".py",
   "mimetype": "text/x-python",
   "name": "python",
   "nbconvert_exporter": "python",
   "pygments_lexer": "ipython3",
   "version": "3.13.1"
  }
 },
 "nbformat": 4,
 "nbformat_minor": 2
}
